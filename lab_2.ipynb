{
 "cells": [
  {
   "cell_type": "markdown",
   "metadata": {},
   "source": [
    "## Описание спайдера\n",
    "\n",
    "Был создан спайдер, собирающий страницы с вики ([код спайдера](https://github.com/matveinazaruk/mag_information_search/tree/master/wiki_spider)).\n",
    "Он ничинал с двух стартовых страниц: \n",
    "~~~~ python\n",
    "start_urls = ['https://en.wikipedia.org/wiki/Los_Angeles',\n",
    "              'https://en.wikipedia.org/wiki/Information_retrieval']\n",
    "~~~~\n",
    "\n",
    "Настройки спайдера:\n",
    "\n",
    "~~~~ python\n",
    "# кол-во параллельно обрабатываемых запросов\n",
    "CONCURRENT_REQUESTS = 32\n",
    "# задержка перед запросом\n",
    "DOWNLOAD_DELAY = 0.1\n",
    "# условие остановки, количество айтемов\n",
    "CLOSESPIDER_ITEMCOUNT = 10000\n",
    "~~~~\n",
    "\n",
    "Айтемы записывались в json lines (.jl) файл в след формате:\n",
    "\n",
    "~~~~ json\n",
    "{\n",
    "    \"id\": \"...\",\n",
    "    \"url\": \"...\",\n",
    "    \"snippet\": \"...\",\n",
    "    \"links\": [\"...\", \"...\"],\n",
    "}\n",
    "~~~~\n",
    "\n",
    "Он проработал около 4.5 часов и собрал **100034** айтема. Для это использовалась плтформа [scrapinghub](http://scrapinghub.com \"scrapinghub\")\n",
    "Но он собрал айтемы не только английско википедии. Для начала посмотрим только английскую часть ([en.wikipedia.org](en.wikipedia.org)). А в конце сравним с общими результатами.  \n",
    "Английских статей - **42092**"
   ]
  },
  {
   "cell_type": "markdown",
   "metadata": {},
   "source": [
    "## Парсим файл и создаем граф:"
   ]
  },
  {
   "cell_type": "code",
   "execution_count": 189,
   "metadata": {
    "collapsed": true
   },
   "outputs": [],
   "source": [
    "import json\n",
    "import networkx as nx\n",
    "\n",
    "items_file = 'items_full.jl'\n",
    "item_ids = {}\n",
    "item_relations = {}\n",
    "\n",
    "def is_english_wiki(url):\n",
    "    return 'en.wiki' in url\n",
    "\n",
    "def print_top_info(top10, pagerank, show_snippet=False):\n",
    "    top10urls = {}\n",
    "    with open(items_file) as item_json:\n",
    "        for i, line in enumerate(item_json):\n",
    "            if i in top10:\n",
    "                item = json.loads(line)\n",
    "                top10urls[i] = item\n",
    "\n",
    "    for i in top10:\n",
    "        print top10urls[i]['url']\n",
    "        print 'Pagerank: ', pagerank[i]\n",
    "        if show_snippet:\n",
    "            print top10urls[i]['snippet']\n",
    "        print\n",
    "\n",
    "with open(items_file) as item_json:\n",
    "    for line in item_json:\n",
    "        item = json.loads(line)\n",
    "        if is_english_wiki(item['url']):\n",
    "            item_ids[item['url']] = item['id']\n",
    "\n",
    "with open(items_file) as item_json:\n",
    "    for line in item_json:\n",
    "        item = json.loads(line)\n",
    "        if is_english_wiki(item['url']):\n",
    "            item_relations[item['id']] = [item_ids[url] for url in item['links'] if url in item_ids]\n",
    "\n",
    "graph = nx.DiGraph()\n",
    "graph.add_nodes_from(item_relations)\n",
    "for from_id in item_relations:\n",
    "    graph.add_edges_from([(from_id, to_id) for to_id in item_relations[from_id]])"
   ]
  },
  {
   "cell_type": "markdown",
   "metadata": {},
   "source": [
    "## Pagerank с дефолтным значением alpha"
   ]
  },
  {
   "cell_type": "code",
   "execution_count": 160,
   "metadata": {
    "collapsed": false
   },
   "outputs": [
    {
     "name": "stdout",
     "output_type": "stream",
     "text": [
      "https://en.wikipedia.org/wiki/World_War_II\n",
      "Pagerank:  0.0147880292089\n",
      "World War II (often abbreviated to WWII or WW2), also known as the Second World War, was a global war that lasted from 1939 to 1945, although related conflicts began earlier. It involved the vast majority of the world's countries—including all of the grea...\n",
      "https://en.wikipedia.org/wiki/Pacific_Ocean\n",
      "Pagerank:  0.0116592539118\n",
      "The Pacific Ocean is the largest and deepest of the Earth's oceanic divisions. It extends from the Arctic Ocean in the north to the Southern Ocean (or, depending on definition, to Antarctica) in the south and is bounded by Asia and Australia in the west a...\n",
      "https://en.wikipedia.org/wiki/London\n",
      "Pagerank:  0.00700272726047\n",
      "London i/ˈlʌndən/ is the capital and most populous city of England and the United Kingdom.[7][8] Standing on the River Thames in the south east of the island of Great Britain, London has been a major settlement for two millennia. It was founded by the Rom...\n",
      "https://en.wikipedia.org/wiki/Barack_Obama\n",
      "Pagerank:  0.00670973921073\n",
      "Barack Hussein Obama II (US i/bəˈrɑːk huːˈseɪn oʊˈbɑːmə/ bə-RAHK hoo-SAYN oh-BAH-mə;[1][2] born August 4, 1961) is an American politician who served as the 44th President of the United States from 2009 to 2017. He is the first African American to have ser...\n",
      "https://en.wikipedia.org/wiki/Bolshevik\n",
      "Pagerank:  0.00654444578911\n",
      "The Bolsheviks, originally also Bolshevists[1][a] or Bolsheviki[3] (Russian: большевики, большевик (singular); IPA: [bəlʲʂɨˈvʲik]; derived from большинство bol'shinstvo, \"majority\", literally meaning \"one of the majority\") were a faction of the Marxist Ru...\n",
      "https://en.wikipedia.org/wiki/Spanish_language\n",
      "Pagerank:  0.00586345195136\n",
      "Spanish (i/ˈspænᵻʃ/,  español (help·info))—also called Castilian[4] (i/kæˈstɪliən/,  castellano (help·info))—is a Romance language that originated in the Castile region of Spain, with hundreds of millions of native speakers around the world. It is usually...\n",
      "https://en.wikipedia.org/wiki/Pinko\n",
      "Pagerank:  0.00569950056455\n",
      "Pinko is a slang term coined in 1925 in the United States to describe a person regarded as being sympathetic to communism, though not necessarily a Communist Party member. It has since come to be used, derogatorily, to describe anyone perceived to have le...\n",
      "https://en.wikipedia.org/wiki/Cantar_de_mio_Cid\n",
      "Pagerank:  0.00496555490697\n",
      "El Cantar de mio Cid, literally \"The Song of my Cid\" (or El Poema de mio Cid), also known in English as The Poem of the Cid, is the oldest preserved Castilian epic poem (epopeya).[1] Based on a true story, it tells of the Castilian hero El Cid, and takes ...\n",
      "https://en.wikipedia.org/wiki/Portugal\n",
      "Pagerank:  0.00450004638012\n",
      "Portugal (Portuguese: [puɾtuˈɣaɫ]), officially the Portuguese Republic (Portuguese: República Portuguesa) (Portuguese: [ʁɨ'publikɐ puɾtu'ɣezɐ])[note 1] is a sovereign state located on the Iberian Peninsula in southwestern Europe. It is the westernmost cou...\n",
      "https://en.wikipedia.org/wiki/Scribal_abbreviation\n",
      "Pagerank:  0.00408225081351\n",
      "Scribal abbreviations or sigla (singular: siglum or sigil) are the abbreviations used by ancient and medieval scribes writing in Latin, and later in Greek and Old Norse. Modern manuscript editing (substantive and mechanical) employs sigla as symbols indic...\n"
     ]
    }
   ],
   "source": [
    "pagerank = nx.pagerank(graph)\n",
    "top10 = sorted(pagerank, key=lambda k: pagerank[k], reverse=True)[:10]\n",
    "print_top_info(top10, pagerank, True)"
   ]
  },
  {
   "cell_type": "markdown",
   "metadata": {},
   "source": [
    "\n",
    "**Дальше будем выводить без сниппета, потому что он занимает много места.  \n",
    "Приведем ниже топ с другими значениями alpha:**\n",
    "\n",
    "## alpha = 0.3"
   ]
  },
  {
   "cell_type": "code",
   "execution_count": 163,
   "metadata": {
    "collapsed": false
   },
   "outputs": [
    {
     "name": "stdout",
     "output_type": "stream",
     "text": [
      "https://en.wikipedia.org/wiki/World_War_II\n",
      "Pagerank:  0.00558947774906\n",
      "https://en.wikipedia.org/wiki/London\n",
      "Pagerank:  0.0026815674597\n",
      "https://en.wikipedia.org/wiki/Los_Angeles\n",
      "Pagerank:  0.00130647888071\n",
      "https://en.wikipedia.org/wiki/Pacific_Ocean\n",
      "Pagerank:  0.00130075019907\n",
      "https://en.wikipedia.org/wiki/Spanish_language\n",
      "Pagerank:  0.00116745750868\n",
      "https://en.wikipedia.org/wiki/Bolshevik\n",
      "Pagerank:  0.00090263100118\n",
      "https://en.wikipedia.org/wiki/Portugal\n",
      "Pagerank:  0.000845448870245\n",
      "https://en.wikipedia.org/wiki/Barack_Obama\n",
      "Pagerank:  0.000751013302733\n",
      "https://en.wikipedia.org/wiki/Roman_Catholic\n",
      "Pagerank:  0.000669814271271\n",
      "https://en.wikipedia.org/wiki/South_America\n",
      "Pagerank:  0.000409215329487\n"
     ]
    }
   ],
   "source": [
    "pagerank = nx.pagerank(graph, 0.3)\n",
    "top10 = sorted(pagerank, key=lambda k: pagerank[k], reverse=True)[:10]\n",
    "print_top_info(top10, pagerank)"
   ]
  },
  {
   "cell_type": "markdown",
   "metadata": {},
   "source": [
    "## alpha = 0.5"
   ]
  },
  {
   "cell_type": "code",
   "execution_count": 164,
   "metadata": {
    "collapsed": false
   },
   "outputs": [
    {
     "name": "stdout",
     "output_type": "stream",
     "text": [
      "https://en.wikipedia.org/wiki/World_War_II\n",
      "Pagerank:  0.00935972579562\n",
      "https://en.wikipedia.org/wiki/London\n",
      "Pagerank:  0.00431633133757\n",
      "https://en.wikipedia.org/wiki/Pacific_Ocean\n",
      "Pagerank:  0.0033975813142\n",
      "https://en.wikipedia.org/wiki/Bolshevik\n",
      "Pagerank:  0.00251074307908\n",
      "https://en.wikipedia.org/wiki/Spanish_language\n",
      "Pagerank:  0.00234269869496\n",
      "https://en.wikipedia.org/wiki/Los_Angeles\n",
      "Pagerank:  0.00226282149776\n",
      "https://en.wikipedia.org/wiki/Portugal\n",
      "Pagerank:  0.00174639643687\n",
      "https://en.wikipedia.org/wiki/Barack_Obama\n",
      "Pagerank:  0.00123045252626\n",
      "https://en.wikipedia.org/wiki/Pinko\n",
      "Pagerank:  0.00122553148907\n",
      "https://en.wikipedia.org/wiki/Roman_Catholic\n",
      "Pagerank:  0.00106120698426\n"
     ]
    }
   ],
   "source": [
    "pagerank = nx.pagerank(graph, 0.5)\n",
    "top10 = sorted(pagerank, key=lambda k: pagerank[k], reverse=True)[:10]\n",
    "print_top_info(top10, pagerank)"
   ]
  },
  {
   "cell_type": "markdown",
   "metadata": {},
   "source": [
    "## alpha = 0.7"
   ]
  },
  {
   "cell_type": "code",
   "execution_count": 165,
   "metadata": {
    "collapsed": false,
    "scrolled": true
   },
   "outputs": [
    {
     "name": "stdout",
     "output_type": "stream",
     "text": [
      "https://en.wikipedia.org/wiki/World_War_II\n",
      "Pagerank:  0.0127242172838\n",
      "https://en.wikipedia.org/wiki/Pacific_Ocean\n",
      "Pagerank:  0.00701210355829\n",
      "https://en.wikipedia.org/wiki/London\n",
      "Pagerank:  0.00594005544866\n",
      "https://en.wikipedia.org/wiki/Bolshevik\n",
      "Pagerank:  0.00464438844094\n",
      "https://en.wikipedia.org/wiki/Spanish_language\n",
      "Pagerank:  0.0040760425632\n",
      "https://en.wikipedia.org/wiki/Barack_Obama\n",
      "Pagerank:  0.00394129647248\n",
      "https://en.wikipedia.org/wiki/Pinko\n",
      "Pagerank:  0.00338953195705\n",
      "https://en.wikipedia.org/wiki/Los_Angeles\n",
      "Pagerank:  0.00327722732879\n",
      "https://en.wikipedia.org/wiki/Portugal\n",
      "Pagerank:  0.00306817384256\n",
      "https://en.wikipedia.org/wiki/Cantar_de_mio_Cid\n",
      "Pagerank:  0.00280821074113\n"
     ]
    }
   ],
   "source": [
    "pagerank = nx.pagerank(graph, 0.7)\n",
    "top10 = sorted(pagerank, key=lambda k: pagerank[k], reverse=True)[:10]\n",
    "print_top_info(top10, pagerank)"
   ]
  },
  {
   "cell_type": "markdown",
   "metadata": {},
   "source": [
    "## alpha = 0.9"
   ]
  },
  {
   "cell_type": "code",
   "execution_count": 173,
   "metadata": {
    "collapsed": false,
    "scrolled": true
   },
   "outputs": [
    {
     "name": "stdout",
     "output_type": "stream",
     "text": [
      "https://en.wikipedia.org/wiki/World_War_II\n",
      "Pagerank:  0.0123480557859\n",
      "https://en.wikipedia.org/wiki/Pacific_Ocean\n",
      "Pagerank:  0.00885810421104\n",
      "https://en.wikipedia.org/wiki/London\n",
      "Pagerank:  0.0057715699261\n",
      "https://en.wikipedia.org/wiki/Bolshevik\n",
      "Pagerank:  0.00569036973362\n",
      "https://en.wikipedia.org/wiki/Barack_Obama\n",
      "Pagerank:  0.00539521048687\n",
      "https://en.wikipedia.org/wiki/Pinko\n",
      "Pagerank:  0.00505543367327\n",
      "https://en.wikipedia.org/wiki/Spanish_language\n",
      "Pagerank:  0.00474028056369\n",
      "https://en.wikipedia.org/wiki/Cantar_de_mio_Cid\n",
      "Pagerank:  0.00384546466103\n",
      "https://en.wikipedia.org/wiki/Portugal\n",
      "Pagerank:  0.00360313817537\n",
      "https://en.wikipedia.org/wiki/Los_Angeles\n",
      "Pagerank:  0.00336406350704\n"
     ]
    }
   ],
   "source": [
    "pagerank = nx.pagerank(graph, 0.9)\n",
    "top10 = sorted(pagerank, key=lambda k: pagerank[k], reverse=True)[:10]\n",
    "print_top_info(top10, pagerank)"
   ]
  },
  {
   "cell_type": "markdown",
   "metadata": {},
   "source": [
    "Как мы видим,на первом месте всегда https://en.wikipedia.org/wiki/World_War_II.  \n",
    "Дальше места меняются в зависимости от alpha. Сам список топ10 - меняется не сильно (+-1 элемент).\n",
    "\n",
    "Теперь посмотрим результат для все ссылок вместо, когда их 100034:"
   ]
  },
  {
   "cell_type": "code",
   "execution_count": 177,
   "metadata": {
    "collapsed": true
   },
   "outputs": [],
   "source": [
    "items_file = 'items_full.jl'\n",
    "item_ids_full = {}\n",
    "item_relations_full = {}\n",
    "\n",
    "\n",
    "with open(items_file) as item_json:\n",
    "    for line in item_json:\n",
    "        item = json.loads(line)\n",
    "        item_ids_full[item['url']] = item['id']\n",
    "\n",
    "with open(items_file) as item_json:\n",
    "    for line in item_json:\n",
    "        item = json.loads(line)\n",
    "        item_relations_full[item['id']] = [item_ids_full[url] for url in item['links'] if url in item_ids_full]\n",
    "\n",
    "graph_full = nx.DiGraph()\n",
    "graph_full.add_nodes_from(item_relations_full)\n",
    "for from_id in item_relations_full:\n",
    "    graph_full.add_edges_from([(from_id, to_id) for to_id in item_relations_full[from_id]])"
   ]
  },
  {
   "cell_type": "markdown",
   "metadata": {},
   "source": [
    "## alphа - 0.85"
   ]
  },
  {
   "cell_type": "code",
   "execution_count": 181,
   "metadata": {
    "collapsed": false
   },
   "outputs": [
    {
     "name": "stdout",
     "output_type": "stream",
     "text": [
      "https://en.wikipedia.org/wiki/World_War_II\n",
      "Pagerank:  0.00654265735122\n",
      "https://en.wikipedia.org/wiki/Pacific_Ocean\n",
      "Pagerank:  0.00448297229308\n",
      "https://en.wikipedia.org/wiki/London\n",
      "Pagerank:  0.00309974345443\n",
      "https://en.wikipedia.org/wiki/Bolshevik\n",
      "Pagerank:  0.00297036250961\n",
      "https://en.wikipedia.org/wiki/Barack_Obama\n",
      "Pagerank:  0.00279542454996\n",
      "https://en.wikipedia.org/wiki/Pinko\n",
      "Pagerank:  0.00264677650011\n",
      "https://en.wikipedia.org/wiki/Spanish_language\n",
      "Pagerank:  0.00239900662955\n",
      "https://it.wikipedia.org/wiki/Aiuto:IPA\n",
      "Pagerank:  0.00205708848643\n",
      "https://en.wikipedia.org/wiki/Cantar_de_mio_Cid\n",
      "Pagerank:  0.00189738262538\n",
      "https://ru.wikipedia.org/wiki/%D0%9D%D0%B5%D0%BC%D0%B5%D1%86%D0%BA%D0%B8%D0%B9_%D1%8F%D0%B7%D1%8B%D0%BA\n",
      "Pagerank:  0.00185135266378\n"
     ]
    }
   ],
   "source": [
    "pagerank_full = nx.pagerank(graph_full)\n",
    "top10_full = sorted(pagerank_full, key=lambda k: pagerank_full[k], reverse=True)[:10]\n",
    "print_top_info(top10_full, pagerank_full)"
   ]
  },
  {
   "cell_type": "markdown",
   "metadata": {},
   "source": [
    "И в этом случае топ документов не сильно поменялся. "
   ]
  },
  {
   "cell_type": "markdown",
   "metadata": {},
   "source": [
    "## alpha = 0.3"
   ]
  },
  {
   "cell_type": "code",
   "execution_count": 185,
   "metadata": {
    "collapsed": false
   },
   "outputs": [
    {
     "name": "stdout",
     "output_type": "stream",
     "text": [
      "https://en.wikipedia.org/wiki/World_War_II\n",
      "Pagerank:  0.00235270596754\n",
      "https://en.wikipedia.org/wiki/London\n",
      "Pagerank:  0.00112874161576\n",
      "https://it.wikipedia.org/wiki/2005\n",
      "Pagerank:  0.000686833275541\n",
      "https://en.wikipedia.org/wiki/Los_Angeles\n",
      "Pagerank:  0.000549924486117\n",
      "https://en.wikipedia.org/wiki/Pacific_Ocean\n",
      "Pagerank:  0.000547399815594\n",
      "https://en.wikipedia.org/wiki/Spanish_language\n",
      "Pagerank:  0.000491403845372\n",
      "https://it.wikipedia.org/wiki/Aiuto:IPA\n",
      "Pagerank:  0.000468742589922\n",
      "https://en.wikipedia.org/wiki/Bolshevik\n",
      "Pagerank:  0.000379832327959\n",
      "https://de.wikipedia.org/wiki/Griechische_Sprache\n",
      "Pagerank:  0.000370082462965\n",
      "https://de.wikipedia.org/wiki/Mathematik\n",
      "Pagerank:  0.000359606302297\n"
     ]
    }
   ],
   "source": [
    "pagerank_full = nx.pagerank(graph_full, 0.3)\n",
    "top10_full = sorted(pagerank_full, key=lambda k: pagerank_full[k], reverse=True)[:10]\n",
    "print_top_info(top10_full, pagerank_full)"
   ]
  },
  {
   "cell_type": "markdown",
   "metadata": {},
   "source": [
    "## alpha = 0.5"
   ]
  },
  {
   "cell_type": "code",
   "execution_count": 187,
   "metadata": {
    "collapsed": false,
    "scrolled": true
   },
   "outputs": [
    {
     "name": "stdout",
     "output_type": "stream",
     "text": [
      "https://en.wikipedia.org/wiki/World_War_II\n",
      "Pagerank:  0.00400822008919\n",
      "https://en.wikipedia.org/wiki/London\n",
      "Pagerank:  0.00185928303391\n",
      "https://en.wikipedia.org/wiki/Pacific_Ocean\n",
      "Pagerank:  0.00130903644264\n",
      "https://it.wikipedia.org/wiki/2005\n",
      "Pagerank:  0.00111005568607\n",
      "https://en.wikipedia.org/wiki/Bolshevik\n",
      "Pagerank:  0.00100080818922\n",
      "https://it.wikipedia.org/wiki/Aiuto:IPA\n",
      "Pagerank:  0.000964753030048\n",
      "https://en.wikipedia.org/wiki/Los_Angeles\n",
      "Pagerank:  0.000942909856044\n",
      "https://en.wikipedia.org/wiki/Spanish_language\n",
      "Pagerank:  0.000857657479486\n",
      "https://de.wikipedia.org/wiki/Griechische_Sprache\n",
      "Pagerank:  0.000683462809011\n",
      "https://en.wikipedia.org/wiki/Portugal\n",
      "Pagerank:  0.000618978946147\n"
     ]
    }
   ],
   "source": [
    "pagerank_full = nx.pagerank(graph_full, 0.5)\n",
    "top10_full = sorted(pagerank_full, key=lambda k: pagerank_full[k], reverse=True)[:10]\n",
    "print_top_info(top10_full, pagerank_full)"
   ]
  },
  {
   "cell_type": "markdown",
   "metadata": {},
   "source": [
    "## alpha = 0.9"
   ]
  },
  {
   "cell_type": "code",
   "execution_count": 188,
   "metadata": {
    "collapsed": false,
    "scrolled": true
   },
   "outputs": [
    {
     "name": "stdout",
     "output_type": "stream",
     "text": [
      "https://en.wikipedia.org/wiki/World_War_II\n",
      "Pagerank:  0.00679257020724\n",
      "https://en.wikipedia.org/wiki/Pacific_Ocean\n",
      "Pagerank:  0.00524352433964\n",
      "https://en.wikipedia.org/wiki/Barack_Obama\n",
      "Pagerank:  0.0035660010517\n",
      "https://en.wikipedia.org/wiki/London\n",
      "Pagerank:  0.00321833340381\n",
      "https://en.wikipedia.org/wiki/Bolshevik\n",
      "Pagerank:  0.00317274578262\n",
      "https://en.wikipedia.org/wiki/Pinko\n",
      "Pagerank:  0.00301996853632\n",
      "https://en.wikipedia.org/wiki/Spanish_language\n",
      "Pagerank:  0.0028105393512\n",
      "https://ru.wikipedia.org/wiki/%D0%9D%D0%B5%D0%BC%D0%B5%D1%86%D0%BA%D0%B8%D0%B9_%D1%8F%D0%B7%D1%8B%D0%BA\n",
      "Pagerank:  0.00263896221135\n",
      "https://en.wikipedia.org/wiki/Cantar_de_mio_Cid\n",
      "Pagerank:  0.00241045696902\n",
      "https://de.wikipedia.org/wiki/Niedersachsen\n",
      "Pagerank:  0.00227287255946\n"
     ]
    }
   ],
   "source": [
    "pagerank_full = nx.pagerank(graph_full, 0.9)\n",
    "top10_full = sorted(pagerank_full, key=lambda k: pagerank_full[k], reverse=True)[:10]\n",
    "print_top_info(top10_full, pagerank_full)"
   ]
  },
  {
   "cell_type": "markdown",
   "metadata": {},
   "source": [
    "Как мы видим при разных alpha в топ пробиваются итальянские, росскийские и немецкие статьи.  \n"
   ]
  }
 ],
 "metadata": {
  "kernelspec": {
   "display_name": "Python 2",
   "language": "python",
   "name": "python2"
  },
  "language_info": {
   "codemirror_mode": {
    "name": "ipython",
    "version": 2
   },
   "file_extension": ".py",
   "mimetype": "text/x-python",
   "name": "python",
   "nbconvert_exporter": "python",
   "pygments_lexer": "ipython2",
   "version": "2.7.6"
  }
 },
 "nbformat": 4,
 "nbformat_minor": 2
}
